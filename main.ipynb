{
 "cells": [
  {
   "cell_type": "code",
   "execution_count": 2,
   "metadata": {},
   "outputs": [
    {
     "name": "stdout",
     "output_type": "stream",
     "text": [
      "Collecting rasa\n",
      "  Downloading rasa-1.10.2-py3-none-any.whl.metadata (14 kB)\n",
      "Collecting PyJWT<1.8,>=1.7 (from rasa)\n",
      "  Downloading PyJWT-1.7.1-py2.py3-none-any.whl.metadata (3.9 kB)\n",
      "Collecting SQLAlchemy<1.4.0,>=1.3.3 (from rasa)\n",
      "  Downloading SQLAlchemy-1.3.24.tar.gz (6.4 MB)\n",
      "     ---------------------------------------- 0.0/6.4 MB ? eta -:--:--\n",
      "     ---------------------------------------- 0.0/6.4 MB ? eta -:--:--\n",
      "     ---------------------------------------- 0.1/6.4 MB 1.3 MB/s eta 0:00:05\n",
      "     - -------------------------------------- 0.2/6.4 MB 2.9 MB/s eta 0:00:03\n",
      "     --- ------------------------------------ 0.5/6.4 MB 4.3 MB/s eta 0:00:02\n",
      "     ------ --------------------------------- 1.0/6.4 MB 6.0 MB/s eta 0:00:01\n",
      "     --------- ------------------------------ 1.5/6.4 MB 6.8 MB/s eta 0:00:01\n",
      "     ----------- ---------------------------- 1.8/6.4 MB 6.8 MB/s eta 0:00:01\n",
      "     -------------- ------------------------- 2.3/6.4 MB 7.4 MB/s eta 0:00:01\n",
      "     --------------- ------------------------ 2.5/6.4 MB 7.3 MB/s eta 0:00:01\n",
      "     ------------------ --------------------- 3.0/6.4 MB 7.4 MB/s eta 0:00:01\n",
      "     -------------------- ------------------- 3.2/6.4 MB 7.5 MB/s eta 0:00:01\n",
      "     -------------------- ------------------- 3.2/6.4 MB 7.5 MB/s eta 0:00:01\n",
      "     -------------------------- ------------- 4.2/6.4 MB 8.0 MB/s eta 0:00:01\n",
      "     ----------------------------- ---------- 4.7/6.4 MB 7.9 MB/s eta 0:00:01\n",
      "     --------------------------------- ------ 5.3/6.4 MB 8.3 MB/s eta 0:00:01\n",
      "     ------------------------------------- -- 6.0/6.4 MB 8.7 MB/s eta 0:00:01\n",
      "     ---------------------------------------- 6.4/6.4 MB 8.6 MB/s eta 0:00:00\n",
      "  Preparing metadata (setup.py): started\n",
      "  Preparing metadata (setup.py): finished with status 'done'\n",
      "Collecting absl-py<0.10,>=0.9 (from rasa)\n",
      "  Downloading absl-py-0.9.0.tar.gz (104 kB)\n",
      "     ---------------------------------------- 0.0/104.0 kB ? eta -:--:--\n",
      "     -------------------------------------- 104.0/104.0 kB 5.9 MB/s eta 0:00:00\n",
      "  Preparing metadata (setup.py): started\n",
      "  Preparing metadata (setup.py): finished with status 'error'\n"
     ]
    },
    {
     "name": "stderr",
     "output_type": "stream",
     "text": [
      "  error: subprocess-exited-with-error\n",
      "  \n",
      "  × python setup.py egg_info did not run successfully.\n",
      "  │ exit code: 1\n",
      "  ╰─> [6 lines of output]\n",
      "      Traceback (most recent call last):\n",
      "        File \"<string>\", line 2, in <module>\n",
      "        File \"<pip-setuptools-caller>\", line 34, in <module>\n",
      "        File \"C:\\Users\\shiva\\AppData\\Local\\Temp\\pip-install-03dfob9l\\absl-py_9ae5df113bfe410e8b906688fcfc17c2\\setup.py\", line 34, in <module>\n",
      "          raise RuntimeError('Python version 2.7 or 3.4+ is required.')\n",
      "      RuntimeError: Python version 2.7 or 3.4+ is required.\n",
      "      [end of output]\n",
      "  \n",
      "  note: This error originates from a subprocess, and is likely not a problem with pip.\n",
      "error: metadata-generation-failed\n",
      "\n",
      "× Encountered error while generating package metadata.\n",
      "╰─> See above for output.\n",
      "\n",
      "note: This is an issue with the package mentioned above, not pip.\n",
      "hint: See above for details.\n"
     ]
    }
   ],
   "source": [
    "!pip install rasa "
   ]
  },
  {
   "cell_type": "code",
   "execution_count": null,
   "metadata": {},
   "outputs": [],
   "source": []
  }
 ],
 "metadata": {
  "kernelspec": {
   "display_name": "Python 3",
   "language": "python",
   "name": "python3"
  },
  "language_info": {
   "codemirror_mode": {
    "name": "ipython",
    "version": 3
   },
   "file_extension": ".py",
   "mimetype": "text/x-python",
   "name": "python",
   "nbconvert_exporter": "python",
   "pygments_lexer": "ipython3",
   "version": "3.12.3"
  }
 },
 "nbformat": 4,
 "nbformat_minor": 2
}
